{
 "cells": [
  {
   "cell_type": "code",
   "execution_count": 1,
   "id": "56b17c4c",
   "metadata": {},
   "outputs": [],
   "source": [
    "import pandas as pd\n",
    "import numpy as np\n",
    "import seaborn as sns"
   ]
  },
  {
   "cell_type": "code",
   "execution_count": 2,
   "id": "3bb6197b",
   "metadata": {},
   "outputs": [],
   "source": [
    "df = pd.read_csv(r'c:\\Users\\DELL\\Downloads\\placements(Sheet1) (1).csv')"
   ]
  },
  {
   "cell_type": "code",
   "execution_count": 3,
   "id": "7556e2de",
   "metadata": {},
   "outputs": [
    {
     "data": {
      "text/html": [
       "<div>\n",
       "<style scoped>\n",
       "    .dataframe tbody tr th:only-of-type {\n",
       "        vertical-align: middle;\n",
       "    }\n",
       "\n",
       "    .dataframe tbody tr th {\n",
       "        vertical-align: top;\n",
       "    }\n",
       "\n",
       "    .dataframe thead th {\n",
       "        text-align: right;\n",
       "    }\n",
       "</style>\n",
       "<table border=\"1\" class=\"dataframe\">\n",
       "  <thead>\n",
       "    <tr style=\"text-align: right;\">\n",
       "      <th></th>\n",
       "      <th>CGPA</th>\n",
       "      <th>Package (LPA)</th>\n",
       "    </tr>\n",
       "  </thead>\n",
       "  <tbody>\n",
       "    <tr>\n",
       "      <th>0</th>\n",
       "      <td>5.00</td>\n",
       "      <td>3</td>\n",
       "    </tr>\n",
       "    <tr>\n",
       "      <th>1</th>\n",
       "      <td>4.30</td>\n",
       "      <td>2</td>\n",
       "    </tr>\n",
       "    <tr>\n",
       "      <th>2</th>\n",
       "      <td>6.90</td>\n",
       "      <td>7</td>\n",
       "    </tr>\n",
       "    <tr>\n",
       "      <th>3</th>\n",
       "      <td>8.00</td>\n",
       "      <td>10</td>\n",
       "    </tr>\n",
       "    <tr>\n",
       "      <th>4</th>\n",
       "      <td>4.00</td>\n",
       "      <td>3</td>\n",
       "    </tr>\n",
       "    <tr>\n",
       "      <th>5</th>\n",
       "      <td>9.89</td>\n",
       "      <td>12</td>\n",
       "    </tr>\n",
       "    <tr>\n",
       "      <th>6</th>\n",
       "      <td>7.00</td>\n",
       "      <td>5</td>\n",
       "    </tr>\n",
       "    <tr>\n",
       "      <th>7</th>\n",
       "      <td>6.66</td>\n",
       "      <td>8</td>\n",
       "    </tr>\n",
       "    <tr>\n",
       "      <th>8</th>\n",
       "      <td>7.90</td>\n",
       "      <td>8</td>\n",
       "    </tr>\n",
       "    <tr>\n",
       "      <th>9</th>\n",
       "      <td>5.50</td>\n",
       "      <td>6</td>\n",
       "    </tr>\n",
       "    <tr>\n",
       "      <th>10</th>\n",
       "      <td>7.20</td>\n",
       "      <td>6</td>\n",
       "    </tr>\n",
       "    <tr>\n",
       "      <th>11</th>\n",
       "      <td>2.00</td>\n",
       "      <td>2</td>\n",
       "    </tr>\n",
       "    <tr>\n",
       "      <th>12</th>\n",
       "      <td>9.00</td>\n",
       "      <td>10</td>\n",
       "    </tr>\n",
       "    <tr>\n",
       "      <th>13</th>\n",
       "      <td>6.90</td>\n",
       "      <td>8</td>\n",
       "    </tr>\n",
       "    <tr>\n",
       "      <th>14</th>\n",
       "      <td>8.05</td>\n",
       "      <td>11</td>\n",
       "    </tr>\n",
       "    <tr>\n",
       "      <th>15</th>\n",
       "      <td>5.89</td>\n",
       "      <td>6</td>\n",
       "    </tr>\n",
       "    <tr>\n",
       "      <th>16</th>\n",
       "      <td>9.83</td>\n",
       "      <td>10</td>\n",
       "    </tr>\n",
       "    <tr>\n",
       "      <th>17</th>\n",
       "      <td>3.05</td>\n",
       "      <td>4</td>\n",
       "    </tr>\n",
       "    <tr>\n",
       "      <th>18</th>\n",
       "      <td>4.09</td>\n",
       "      <td>6</td>\n",
       "    </tr>\n",
       "    <tr>\n",
       "      <th>19</th>\n",
       "      <td>8.00</td>\n",
       "      <td>7</td>\n",
       "    </tr>\n",
       "    <tr>\n",
       "      <th>20</th>\n",
       "      <td>7.65</td>\n",
       "      <td>9</td>\n",
       "    </tr>\n",
       "    <tr>\n",
       "      <th>21</th>\n",
       "      <td>5.00</td>\n",
       "      <td>3</td>\n",
       "    </tr>\n",
       "    <tr>\n",
       "      <th>22</th>\n",
       "      <td>4.32</td>\n",
       "      <td>5</td>\n",
       "    </tr>\n",
       "    <tr>\n",
       "      <th>23</th>\n",
       "      <td>7.00</td>\n",
       "      <td>8</td>\n",
       "    </tr>\n",
       "    <tr>\n",
       "      <th>24</th>\n",
       "      <td>9.80</td>\n",
       "      <td>12</td>\n",
       "    </tr>\n",
       "    <tr>\n",
       "      <th>25</th>\n",
       "      <td>8.90</td>\n",
       "      <td>10</td>\n",
       "    </tr>\n",
       "    <tr>\n",
       "      <th>26</th>\n",
       "      <td>5.40</td>\n",
       "      <td>4</td>\n",
       "    </tr>\n",
       "    <tr>\n",
       "      <th>27</th>\n",
       "      <td>8.00</td>\n",
       "      <td>9</td>\n",
       "    </tr>\n",
       "    <tr>\n",
       "      <th>28</th>\n",
       "      <td>3.20</td>\n",
       "      <td>4</td>\n",
       "    </tr>\n",
       "    <tr>\n",
       "      <th>29</th>\n",
       "      <td>6.70</td>\n",
       "      <td>8</td>\n",
       "    </tr>\n",
       "  </tbody>\n",
       "</table>\n",
       "</div>"
      ],
      "text/plain": [
       "    CGPA  Package (LPA)\n",
       "0   5.00              3\n",
       "1   4.30              2\n",
       "2   6.90              7\n",
       "3   8.00             10\n",
       "4   4.00              3\n",
       "5   9.89             12\n",
       "6   7.00              5\n",
       "7   6.66              8\n",
       "8   7.90              8\n",
       "9   5.50              6\n",
       "10  7.20              6\n",
       "11  2.00              2\n",
       "12  9.00             10\n",
       "13  6.90              8\n",
       "14  8.05             11\n",
       "15  5.89              6\n",
       "16  9.83             10\n",
       "17  3.05              4\n",
       "18  4.09              6\n",
       "19  8.00              7\n",
       "20  7.65              9\n",
       "21  5.00              3\n",
       "22  4.32              5\n",
       "23  7.00              8\n",
       "24  9.80             12\n",
       "25  8.90             10\n",
       "26  5.40              4\n",
       "27  8.00              9\n",
       "28  3.20              4\n",
       "29  6.70              8"
      ]
     },
     "execution_count": 3,
     "metadata": {},
     "output_type": "execute_result"
    }
   ],
   "source": [
    "df"
   ]
  },
  {
   "cell_type": "code",
   "execution_count": 4,
   "id": "c3b51cd2",
   "metadata": {},
   "outputs": [
    {
     "data": {
      "text/plain": [
       "(30, 2)"
      ]
     },
     "execution_count": 4,
     "metadata": {},
     "output_type": "execute_result"
    }
   ],
   "source": [
    "df.shape"
   ]
  },
  {
   "cell_type": "code",
   "execution_count": 9,
   "id": "7972f4dd",
   "metadata": {},
   "outputs": [
    {
     "data": {
      "text/plain": [
       "0     5.00\n",
       "1     4.30\n",
       "2     6.90\n",
       "3     8.00\n",
       "4     4.00\n",
       "5     9.89\n",
       "6     7.00\n",
       "7     6.66\n",
       "8     7.90\n",
       "9     5.50\n",
       "10    7.20\n",
       "11    2.00\n",
       "12    9.00\n",
       "13    6.90\n",
       "14    8.05\n",
       "15    5.89\n",
       "16    9.83\n",
       "17    3.05\n",
       "18    4.09\n",
       "19    8.00\n",
       "20    7.65\n",
       "21    5.00\n",
       "22    4.32\n",
       "23    7.00\n",
       "24    9.80\n",
       "25    8.90\n",
       "26    5.40\n",
       "27    8.00\n",
       "28    3.20\n",
       "29    6.70\n",
       "Name: CGPA, dtype: float64"
      ]
     },
     "execution_count": 9,
     "metadata": {},
     "output_type": "execute_result"
    }
   ],
   "source": [
    "X = df['CGPA']\n",
    "X"
   ]
  },
  {
   "cell_type": "code",
   "execution_count": 10,
   "id": "58742995",
   "metadata": {},
   "outputs": [
    {
     "data": {
      "text/plain": [
       "0      3\n",
       "1      2\n",
       "2      7\n",
       "3     10\n",
       "4      3\n",
       "5     12\n",
       "6      5\n",
       "7      8\n",
       "8      8\n",
       "9      6\n",
       "10     6\n",
       "11     2\n",
       "12    10\n",
       "13     8\n",
       "14    11\n",
       "15     6\n",
       "16    10\n",
       "17     4\n",
       "18     6\n",
       "19     7\n",
       "20     9\n",
       "21     3\n",
       "22     5\n",
       "23     8\n",
       "24    12\n",
       "25    10\n",
       "26     4\n",
       "27     9\n",
       "28     4\n",
       "29     8\n",
       "Name: Package (LPA), dtype: int64"
      ]
     },
     "execution_count": 10,
     "metadata": {},
     "output_type": "execute_result"
    }
   ],
   "source": [
    "y = df['Package (LPA)']\n",
    "y"
   ]
  },
  {
   "cell_type": "code",
   "execution_count": 11,
   "id": "eb4640ae",
   "metadata": {},
   "outputs": [
    {
     "data": {
      "text/plain": [
       "<Axes: xlabel='CGPA', ylabel='Package (LPA)'>"
      ]
     },
     "execution_count": 11,
     "metadata": {},
     "output_type": "execute_result"
    },
    {
     "data": {
      "image/png": "[encoded data removed]",
      "text/plain": [
       "<Figure size 640x480 with 1 Axes>"
      ]
     },
     "metadata": {},
     "output_type": "display_data"
    }
   ],
   "source": [
    "sns.scatterplot(data = df,x = X,y = y)"
   ]
  },
  {
   "cell_type": "code",
   "execution_count": 12,
   "id": "88687a52",
   "metadata": {},
   "outputs": [],
   "source": [
    "from sklearn.model_selection import train_test_split"
   ]
  },
  {
   "cell_type": "code",
   "execution_count": 13,
   "id": "3e0afccf",
   "metadata": {},
   "outputs": [],
   "source": [
    "X_train,X_test,y_train,y_test = train_test_split(X,y,test_size=0.2,random_state=42)"
   ]
  },
  {
   "cell_type": "code",
   "execution_count": 14,
   "id": "c143af10",
   "metadata": {},
   "outputs": [],
   "source": [
    "X_train.reset_index(drop=True,inplace=True)\n",
    "y_train.reset_index(drop=True,inplace=True)"
   ]
  },
  {
   "cell_type": "code",
   "execution_count": 15,
   "id": "b36b26fb",
   "metadata": {},
   "outputs": [],
   "source": [
    "class Linreg:\n",
    "  def __init__(self):\n",
    "    self.m = None\n",
    "    self.b = None\n",
    "  def fit(self, X_train, y_train):\n",
    "        x_mean = X_train.mean()\n",
    "        y_mean = y_train.mean()\n",
    "        num = 0\n",
    "        den = 0\n",
    "        for i in range(len(X_train)):\n",
    "          xi = X_train[i]\n",
    "          yi = y_train[i]\n",
    "\n",
    "          num += (xi - x_mean) * (yi - y_mean)\n",
    "          den += (xi - x_mean) ** 2\n",
    "\n",
    "        self.m = num / den\n",
    "        self.b = y_mean - (self.m * x_mean)\n",
    "\n",
    "        print(f\"Slope (m): {self.m}\")\n",
    "        print(f\"Intercept (b): {self.b}\")\n",
    "\n",
    "  def predict(self, X_test):\n",
    "    return self.m * X_test + self.b"
   ]
  },
  {
   "cell_type": "code",
   "execution_count": 16,
   "id": "1a9b7e6e",
   "metadata": {},
   "outputs": [
    {
     "name": "stdout",
     "output_type": "stream",
     "text": [
      "Slope (m): 1.2888300329697115\n",
      "Intercept (b): -1.5985204542621165\n"
     ]
    }
   ],
   "source": [
    "lr = Linreg()\n",
    "lr.fit(X_train,y_train)"
   ]
  },
  {
   "cell_type": "code",
   "execution_count": 17,
   "id": "a7611fe2",
   "metadata": {},
   "outputs": [
    {
     "data": {
      "text/plain": [
       "27    8.00\n",
       "15    5.89\n",
       "23    7.00\n",
       "17    3.05\n",
       "8     7.90\n",
       "9     5.50\n",
       "Name: CGPA, dtype: float64"
      ]
     },
     "execution_count": 17,
     "metadata": {},
     "output_type": "execute_result"
    }
   ],
   "source": [
    "X_test"
   ]
  },
  {
   "cell_type": "code",
   "execution_count": 18,
   "id": "15dc684d",
   "metadata": {},
   "outputs": [
    {
     "name": "stdout",
     "output_type": "stream",
     "text": [
      "8.712119809495576\n"
     ]
    }
   ],
   "source": [
    "print(lr.predict(X_test.iloc[0]))"
   ]
  },
  {
   "cell_type": "markdown",
   "id": "3022a501",
   "metadata": {},
   "source": [
    "it's so close. original value in target column is 9"
   ]
  },
  {
   "cell_type": "code",
   "execution_count": 19,
   "id": "9237df0e",
   "metadata": {},
   "outputs": [],
   "source": [
    "y_pred = lr.predict(X_test)"
   ]
  },
  {
   "cell_type": "code",
   "execution_count": 20,
   "id": "3b5e82e6",
   "metadata": {},
   "outputs": [
    {
     "data": {
      "text/plain": [
       "0.6327658803911885"
      ]
     },
     "execution_count": 20,
     "metadata": {},
     "output_type": "execute_result"
    }
   ],
   "source": [
    "from sklearn.metrics import mean_squared_error,r2_score\n",
    "mse = mean_squared_error(y_test,y_pred)\n",
    "mse"
   ]
  },
  {
   "cell_type": "code",
   "execution_count": 21,
   "id": "2a89a282",
   "metadata": {},
   "outputs": [
    {
     "data": {
      "text/plain": [
       "0.7744596861972001"
      ]
     },
     "execution_count": 21,
     "metadata": {},
     "output_type": "execute_result"
    }
   ],
   "source": [
    "r2_score(y_test,y_pred)"
   ]
  },
  {
   "cell_type": "markdown",
   "id": "0f9d49b7",
   "metadata": {},
   "source": [
    "Our Linear regression, which we implemented from scratch is working pretty well."
   ]
  }
 ],
 "metadata": {
  "kernelspec": {
   "display_name": "Python 3",
   "language": "python",
   "name": "python3"
  },
  "language_info": {
   "codemirror_mode": {
    "name": "ipython",
    "version": 3
   },
   "file_extension": ".py",
   "mimetype": "text/x-python",
   "name": "python",
   "nbconvert_exporter": "python",
   "pygments_lexer": "ipython3",
   "version": "3.12.5"
  }
 },
 "nbformat": 4,
 "nbformat_minor": 5
}
